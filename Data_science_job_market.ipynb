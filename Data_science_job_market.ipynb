{
 "cells": [
  {
   "cell_type": "code",
   "execution_count": 1,
   "metadata": {},
   "outputs": [],
   "source": [
    "import numpy as np\n",
    "import pandas as pd\n",
    "import matplotlib.pyplot as plt\n",
    "import seaborn as sns\n",
    "import re\n",
    "import string"
   ]
  },
  {
   "cell_type": "markdown",
   "metadata": {},
   "source": [
    "# Data preparation"
   ]
  },
  {
   "cell_type": "code",
   "execution_count": 3,
   "metadata": {},
   "outputs": [
    {
     "data": {
      "text/html": [
       "<div>\n",
       "<style scoped>\n",
       "    .dataframe tbody tr th:only-of-type {\n",
       "        vertical-align: middle;\n",
       "    }\n",
       "\n",
       "    .dataframe tbody tr th {\n",
       "        vertical-align: top;\n",
       "    }\n",
       "\n",
       "    .dataframe thead th {\n",
       "        text-align: right;\n",
       "    }\n",
       "</style>\n",
       "<table border=\"1\" class=\"dataframe\">\n",
       "  <thead>\n",
       "    <tr style=\"text-align: right;\">\n",
       "      <th></th>\n",
       "      <th>position</th>\n",
       "      <th>company</th>\n",
       "      <th>description</th>\n",
       "      <th>reviews</th>\n",
       "      <th>location</th>\n",
       "    </tr>\n",
       "  </thead>\n",
       "  <tbody>\n",
       "    <tr>\n",
       "      <th>0</th>\n",
       "      <td>Development Director</td>\n",
       "      <td>ALS TDI</td>\n",
       "      <td>Development Director\\nALS Therapy Development ...</td>\n",
       "      <td>NaN</td>\n",
       "      <td>Atlanta, GA 30301</td>\n",
       "    </tr>\n",
       "    <tr>\n",
       "      <th>1</th>\n",
       "      <td>An Ostentatiously-Excitable Principal Research...</td>\n",
       "      <td>The Hexagon Lavish</td>\n",
       "      <td>Job Description\\n\\n\"The road that leads to acc...</td>\n",
       "      <td>NaN</td>\n",
       "      <td>Atlanta, GA</td>\n",
       "    </tr>\n",
       "    <tr>\n",
       "      <th>2</th>\n",
       "      <td>Data Scientist</td>\n",
       "      <td>Xpert Staffing</td>\n",
       "      <td>Growing company located in the Atlanta, GA are...</td>\n",
       "      <td>NaN</td>\n",
       "      <td>Atlanta, GA</td>\n",
       "    </tr>\n",
       "    <tr>\n",
       "      <th>3</th>\n",
       "      <td>Data Analyst</td>\n",
       "      <td>Operation HOPE</td>\n",
       "      <td>DEPARTMENT: Program OperationsPOSITION LOCATIO...</td>\n",
       "      <td>44.0</td>\n",
       "      <td>Atlanta, GA 30303</td>\n",
       "    </tr>\n",
       "    <tr>\n",
       "      <th>4</th>\n",
       "      <td>Assistant Professor -TT - Signal Processing &amp; ...</td>\n",
       "      <td>Emory University</td>\n",
       "      <td>DESCRIPTION\\nThe Emory University Department o...</td>\n",
       "      <td>550.0</td>\n",
       "      <td>Atlanta, GA</td>\n",
       "    </tr>\n",
       "    <tr>\n",
       "      <th>...</th>\n",
       "      <td>...</td>\n",
       "      <td>...</td>\n",
       "      <td>...</td>\n",
       "      <td>...</td>\n",
       "      <td>...</td>\n",
       "    </tr>\n",
       "    <tr>\n",
       "      <th>95</th>\n",
       "      <td>Quantitative Finance Analyst</td>\n",
       "      <td>Bank of America</td>\n",
       "      <td>Job Description:\\n\\nWe are seeking a Quantitat...</td>\n",
       "      <td>21954.0</td>\n",
       "      <td>Atlanta, GA 30308</td>\n",
       "    </tr>\n",
       "    <tr>\n",
       "      <th>96</th>\n",
       "      <td>Advertiser Research Analyst</td>\n",
       "      <td>Cox Media Group</td>\n",
       "      <td>Description\\n\\nSummary: The Advertiser Researc...</td>\n",
       "      <td>221.0</td>\n",
       "      <td>Atlanta, GA</td>\n",
       "    </tr>\n",
       "    <tr>\n",
       "      <th>97</th>\n",
       "      <td>Manager, Data Scientist (ML/NLP) -- Financial ...</td>\n",
       "      <td>KPMG</td>\n",
       "      <td>Innovate. Collaborate. Shine. Lighthouse — KPM...</td>\n",
       "      <td>4494.0</td>\n",
       "      <td>Atlanta, GA 30338</td>\n",
       "    </tr>\n",
       "    <tr>\n",
       "      <th>98</th>\n",
       "      <td>Data Science Instructor</td>\n",
       "      <td>General Assembly</td>\n",
       "      <td>Since 2011, General Assembly has transformed t...</td>\n",
       "      <td>144.0</td>\n",
       "      <td>Atlanta, GA</td>\n",
       "    </tr>\n",
       "    <tr>\n",
       "      <th>99</th>\n",
       "      <td>Research Informatics Analyst</td>\n",
       "      <td>Emory University</td>\n",
       "      <td>DESCRIPTION\\nJOB DESCRIPTION: Leads efforts to...</td>\n",
       "      <td>550.0</td>\n",
       "      <td>Atlanta, GA</td>\n",
       "    </tr>\n",
       "  </tbody>\n",
       "</table>\n",
       "<p>100 rows × 5 columns</p>\n",
       "</div>"
      ],
      "text/plain": [
       "                                             position             company  \\\n",
       "0                                Development Director             ALS TDI   \n",
       "1   An Ostentatiously-Excitable Principal Research...  The Hexagon Lavish   \n",
       "2                                      Data Scientist      Xpert Staffing   \n",
       "3                                        Data Analyst      Operation HOPE   \n",
       "4   Assistant Professor -TT - Signal Processing & ...    Emory University   \n",
       "..                                                ...                 ...   \n",
       "95                       Quantitative Finance Analyst     Bank of America   \n",
       "96                        Advertiser Research Analyst     Cox Media Group   \n",
       "97  Manager, Data Scientist (ML/NLP) -- Financial ...                KPMG   \n",
       "98                            Data Science Instructor    General Assembly   \n",
       "99                       Research Informatics Analyst    Emory University   \n",
       "\n",
       "                                          description  reviews  \\\n",
       "0   Development Director\\nALS Therapy Development ...      NaN   \n",
       "1   Job Description\\n\\n\"The road that leads to acc...      NaN   \n",
       "2   Growing company located in the Atlanta, GA are...      NaN   \n",
       "3   DEPARTMENT: Program OperationsPOSITION LOCATIO...     44.0   \n",
       "4   DESCRIPTION\\nThe Emory University Department o...    550.0   \n",
       "..                                                ...      ...   \n",
       "95  Job Description:\\n\\nWe are seeking a Quantitat...  21954.0   \n",
       "96  Description\\n\\nSummary: The Advertiser Researc...    221.0   \n",
       "97  Innovate. Collaborate. Shine. Lighthouse — KPM...   4494.0   \n",
       "98  Since 2011, General Assembly has transformed t...    144.0   \n",
       "99  DESCRIPTION\\nJOB DESCRIPTION: Leads efforts to...    550.0   \n",
       "\n",
       "              location  \n",
       "0   Atlanta, GA 30301   \n",
       "1          Atlanta, GA  \n",
       "2          Atlanta, GA  \n",
       "3   Atlanta, GA 30303   \n",
       "4          Atlanta, GA  \n",
       "..                 ...  \n",
       "95  Atlanta, GA 30308   \n",
       "96         Atlanta, GA  \n",
       "97   Atlanta, GA 30338  \n",
       "98         Atlanta, GA  \n",
       "99         Atlanta, GA  \n",
       "\n",
       "[100 rows x 5 columns]"
      ]
     },
     "execution_count": 3,
     "metadata": {},
     "output_type": "execute_result"
    }
   ],
   "source": [
    "df = pd.read_csv(\"alldata.csv\")\n",
    "df.head(100)"
   ]
  },
  {
   "cell_type": "markdown",
   "metadata": {},
   "source": [
    "# Clean data"
   ]
  },
  {
   "cell_type": "code",
   "execution_count": 4,
   "metadata": {},
   "outputs": [
    {
     "data": {
      "text/plain": [
       "position         11\n",
       "company          11\n",
       "description      11\n",
       "reviews        1638\n",
       "location         11\n",
       "dtype: int64"
      ]
     },
     "execution_count": 4,
     "metadata": {},
     "output_type": "execute_result"
    }
   ],
   "source": [
    "df.isnull().sum()"
   ]
  },
  {
   "cell_type": "code",
   "execution_count": 7,
   "metadata": {},
   "outputs": [],
   "source": [
    "review = df[\"reviews\"]\n",
    "df = df.drop(columns = [\"reviews\"])"
   ]
  },
  {
   "cell_type": "code",
   "execution_count": 8,
   "metadata": {},
   "outputs": [],
   "source": [
    "df.drop(index = df[df[\"position\"].isnull()].index, inplace=True)"
   ]
  },
  {
   "cell_type": "code",
   "execution_count": 9,
   "metadata": {},
   "outputs": [
    {
     "data": {
      "text/plain": [
       "position       False\n",
       "company        False\n",
       "description    False\n",
       "location       False\n",
       "dtype: bool"
      ]
     },
     "execution_count": 9,
     "metadata": {},
     "output_type": "execute_result"
    }
   ],
   "source": [
    "df.isnull().any()"
   ]
  },
  {
   "cell_type": "code",
   "execution_count": 10,
   "metadata": {},
   "outputs": [
    {
     "data": {
      "text/html": [
       "<div>\n",
       "<style scoped>\n",
       "    .dataframe tbody tr th:only-of-type {\n",
       "        vertical-align: middle;\n",
       "    }\n",
       "\n",
       "    .dataframe tbody tr th {\n",
       "        vertical-align: top;\n",
       "    }\n",
       "\n",
       "    .dataframe thead th {\n",
       "        text-align: right;\n",
       "    }\n",
       "</style>\n",
       "<table border=\"1\" class=\"dataframe\">\n",
       "  <thead>\n",
       "    <tr style=\"text-align: right;\">\n",
       "      <th></th>\n",
       "      <th>position</th>\n",
       "      <th>company</th>\n",
       "      <th>description</th>\n",
       "      <th>location</th>\n",
       "      <th>city</th>\n",
       "      <th>state</th>\n",
       "    </tr>\n",
       "  </thead>\n",
       "  <tbody>\n",
       "    <tr>\n",
       "      <th>0</th>\n",
       "      <td>Development Director</td>\n",
       "      <td>ALS TDI</td>\n",
       "      <td>Development Director\\nALS Therapy Development ...</td>\n",
       "      <td>Atlanta, GA</td>\n",
       "      <td>Atlanta</td>\n",
       "      <td>GA</td>\n",
       "    </tr>\n",
       "    <tr>\n",
       "      <th>1</th>\n",
       "      <td>An Ostentatiously-Excitable Principal Research...</td>\n",
       "      <td>The Hexagon Lavish</td>\n",
       "      <td>Job Description\\n\\n\"The road that leads to acc...</td>\n",
       "      <td>Atlanta, GA</td>\n",
       "      <td>Atlanta</td>\n",
       "      <td>GA</td>\n",
       "    </tr>\n",
       "    <tr>\n",
       "      <th>2</th>\n",
       "      <td>Data Scientist</td>\n",
       "      <td>Xpert Staffing</td>\n",
       "      <td>Growing company located in the Atlanta, GA are...</td>\n",
       "      <td>Atlanta, GA</td>\n",
       "      <td>Atlanta</td>\n",
       "      <td>GA</td>\n",
       "    </tr>\n",
       "    <tr>\n",
       "      <th>3</th>\n",
       "      <td>Data Analyst</td>\n",
       "      <td>Operation HOPE</td>\n",
       "      <td>DEPARTMENT: Program OperationsPOSITION LOCATIO...</td>\n",
       "      <td>Atlanta, GA</td>\n",
       "      <td>Atlanta</td>\n",
       "      <td>GA</td>\n",
       "    </tr>\n",
       "    <tr>\n",
       "      <th>4</th>\n",
       "      <td>Assistant Professor -TT - Signal Processing &amp; ...</td>\n",
       "      <td>Emory University</td>\n",
       "      <td>DESCRIPTION\\nThe Emory University Department o...</td>\n",
       "      <td>Atlanta, GA</td>\n",
       "      <td>Atlanta</td>\n",
       "      <td>GA</td>\n",
       "    </tr>\n",
       "  </tbody>\n",
       "</table>\n",
       "</div>"
      ],
      "text/plain": [
       "                                            position             company  \\\n",
       "0                               Development Director             ALS TDI   \n",
       "1  An Ostentatiously-Excitable Principal Research...  The Hexagon Lavish   \n",
       "2                                     Data Scientist      Xpert Staffing   \n",
       "3                                       Data Analyst      Operation HOPE   \n",
       "4  Assistant Professor -TT - Signal Processing & ...    Emory University   \n",
       "\n",
       "                                         description     location     city  \\\n",
       "0  Development Director\\nALS Therapy Development ...  Atlanta, GA  Atlanta   \n",
       "1  Job Description\\n\\n\"The road that leads to acc...  Atlanta, GA  Atlanta   \n",
       "2  Growing company located in the Atlanta, GA are...  Atlanta, GA  Atlanta   \n",
       "3  DEPARTMENT: Program OperationsPOSITION LOCATIO...  Atlanta, GA  Atlanta   \n",
       "4  DESCRIPTION\\nThe Emory University Department o...  Atlanta, GA  Atlanta   \n",
       "\n",
       "  state  \n",
       "0    GA  \n",
       "1    GA  \n",
       "2    GA  \n",
       "3    GA  \n",
       "4    GA  "
      ]
     },
     "execution_count": 10,
     "metadata": {},
     "output_type": "execute_result"
    }
   ],
   "source": [
    "#split city and stade columns\n",
    "df['location'] = df.location.apply(lambda x: re.sub('\\d*','',str(x)))\n",
    "df['city'] = df.location.apply(lambda x: x.split(',')[0].strip())\n",
    "df['state'] = df.location.apply(lambda x: x.split(',')[1].strip())\n",
    "df['location'] = df['city']+ ', ' + df['state']\n",
    "df.head()"
   ]
  },
  {
   "cell_type": "markdown",
   "metadata": {},
   "source": [
    "# Data analysis"
   ]
  },
  {
   "cell_type": "code",
   "execution_count": 12,
   "metadata": {},
   "outputs": [
    {
     "name": "stdout",
     "output_type": "stream",
     "text": [
      "2213\n"
     ]
    }
   ],
   "source": [
    "#Total number of company in dataset\n",
    "total_number_company = df[\"company\"].nunique()\n",
    "print(total_number_company)"
   ]
  },
  {
   "cell_type": "code",
   "execution_count": 23,
   "metadata": {},
   "outputs": [
    {
     "name": "stdout",
     "output_type": "stream",
     "text": [
      "                                     company  position\n",
      "122                               Amazon.com       358\n",
      "230                           Ball Aerospace       187\n",
      "1270                               Microsoft       137\n",
      "866                                   Google       134\n",
      "1328                      NYU Langone Health        77\n",
      "798   Fred Hutchinson Cancer Research Center        70\n",
      "1095                                    KPMG        66\n",
      "1136                                  Lab126        50\n",
      "748                                 Facebook        49\n",
      "324                          Broad Institute        49\n"
     ]
    }
   ],
   "source": [
    "#The company with the most hiring data scientist positions in dataset\n",
    "most_hiring_company = df.groupby([\"company\"])[\"position\"].count()\n",
    "most_hiring_company = most_position.reset_index(name=\"position\")\n",
    "most_hiring_company = most_position.sort_values([\"position\"], ascending=False)\n",
    "most_hiring_company = most_hiring_company.head(10)\n",
    "print(most_position)"
   ]
  },
  {
   "cell_type": "code",
   "execution_count": 24,
   "metadata": {},
   "outputs": [],
   "source": [
    "#create dataframe\n",
    "most_hiring_company_df = pd.DataFrame(most_hiring_company)"
   ]
  },
  {
   "cell_type": "code",
   "execution_count": 26,
   "metadata": {},
   "outputs": [
    {
     "data": {
      "text/plain": [
       "Text(0.5, 1.0, 'Top 10 companyies have the most Data Scientist job Search')"
      ]
     },
     "execution_count": 26,
     "metadata": {},
     "output_type": "execute_result"
    },
    {
     "data": {
      "image/png": "[encoded data removed]",
      "text/plain": [
       "<Figure size 720x432 with 1 Axes>"
      ]
     },
     "metadata": {
      "needs_background": "light"
     },
     "output_type": "display_data"
    }
   ],
   "source": [
    "#plot dataframe\n",
    "fig, ax = plt.subplots(figsize = (10,6))\n",
    "ax = sns.barplot(x=\"company\", y=\"position\", data=most_hiring_company_df)\n",
    "ax.set_xticklabels(most_hiring_company_df[\"company\"], rotation = 90)\n",
    "ax.set_xlabel(\"Company names\",size = 14)\n",
    "ax.set_ylabel(\"Number of jobs\", size = 14)\n",
    "ax.set_title(\"Top 10 companyies have the most Data Scientist job Search\")\n"
   ]
  },
  {
   "cell_type": "code",
   "execution_count": 30,
   "metadata": {},
   "outputs": [
    {
     "name": "stdout",
     "output_type": "stream",
     "text": [
      "                       position  company\n",
      "1026             Data Scientist      351\n",
      "3833      Senior Data Scientist       96\n",
      "3115           Research Analyst       64\n",
      "928               Data Engineer       60\n",
      "2152  Machine Learning Engineer       56\n",
      "2071        Lead Data Scientist       31\n",
      "3276         Research Scientist       30\n",
      "4685         Sr. Data Scientist       28\n",
      "2660   Principal Data Scientist       24\n",
      "879                Data Analyst       22\n"
     ]
    }
   ],
   "source": [
    "#The most hiring position\n",
    "most_hiring_position = df.groupby([\"position\"])[\"company\"].count()\n",
    "most_hiring_position = most_hiring_position.reset_index(name=\"company\")\n",
    "most_hiring_position = most_hiring_position.sort_values([\"company\"], ascending=False)\n",
    "most_hiring_position = most_hiring_position.head(10)\n",
    "print(most_hiring_position)"
   ]
  },
  {
   "cell_type": "code",
   "execution_count": 32,
   "metadata": {},
   "outputs": [
    {
     "data": {
      "text/plain": [
       "Text(0, 0.5, 'NUMBER of COMPANIES')"
      ]
     },
     "execution_count": 32,
     "metadata": {},
     "output_type": "execute_result"
    },
    {
     "data": {
      "image/png": "[encoded data removed]",
      "text/plain": [
       "<Figure size 864x432 with 1 Axes>"
      ]
     },
     "metadata": {
      "needs_background": "light"
     },
     "output_type": "display_data"
    }
   ],
   "source": [
    "fig,ax = plt.subplots(figsize=(12,6))\n",
    "ax = sns.barplot(x=\"position\", y=\"company\", data=most_hiring_position)\n",
    "ax.set_xticklabels(most_hiring_position[\"position\"], rotation= 90)\n",
    "ax.set_xlabel(\"MOST WANTED POSITIONS\", size = 14)\n",
    "ax.set_ylabel(\"NUMBER of COMPANIES\", size = 14)"
   ]
  },
  {
   "cell_type": "code",
   "execution_count": 45,
   "metadata": {},
   "outputs": [],
   "source": [
    "#group position name into 5 group\n",
    "data = df.copy()\n",
    "data[\"position\"] = [x.upper() for x in data[\"position\"]]\n",
    "\n",
    "data.loc[data.position.str.contains('SCIENTIST'), 'position'] = \"Data Scientist\"\n",
    "data.loc[data.position.str.contains('PROGRAMMER'), 'position'] = \"Machine learning Engineer\"\n",
    "data.loc[data.position.str.contains('ENGINEER'), 'postion'] = \"Machine learning Engineer\"\n",
    "data.loc[data.position.str.contains('DEVELOPER'), 'positon'] = \"Machine learning Engineer\"\n",
    "data.loc[data.position.str.contains('ANALYST'), 'position'] = \"Data Analyst\"\n",
    "data.loc[data.position.str.contains('MANAGER'), 'position'] = \"Data Science Manager\"\n",
    "data.loc[data.position.str.contains('CONSULTANT'), 'position'] = \"Data Analyst\"\n",
    "data.loc[data.position.str.contains('DIRECTOR'), 'position'] = \"Data Analyst\"\n",
    "\n",
    "data.position=data[(data.position == 'Data Scientist') | (data.position == 'Data Analyst') | (data.position == 'Machine learning Engineer') | (data.position == 'Data Science Manager')]\n",
    "data.position=['Others' if x is np.nan else x for x in data.position]"
   ]
  },
  {
   "cell_type": "code",
   "execution_count": 46,
   "metadata": {},
   "outputs": [
    {
     "name": "stdout",
     "output_type": "stream",
     "text": [
      "                    position  company\n",
      "2             Data Scientist     2645\n",
      "4                     Others     2637\n",
      "0               Data Analyst     1109\n",
      "1       Data Science Manager      507\n",
      "3  Machine learning Engineer       55\n"
     ]
    },
    {
     "data": {
      "image/png": "[encoded data removed]",
      "text/plain": [
       "<Figure size 864x432 with 1 Axes>"
      ]
     },
     "metadata": {
      "needs_background": "light"
     },
     "output_type": "display_data"
    }
   ],
   "source": [
    "title = data.groupby([\"position\"])[\"company\"].count()\n",
    "title = title.reset_index(name = \"company\")\n",
    "title = title.sort_values([\"company\"], ascending = False)\n",
    "print(title)\n",
    "fig,ax = plt.subplots(figsize =(12,6))\n",
    "ax = sns.barplot(x = \"position\", y=\"company\", data = title)"
   ]
  },
  {
   "cell_type": "code",
   "execution_count": 79,
   "metadata": {},
   "outputs": [
    {
     "data": {
      "text/plain": [
       "Text(0, 0.5, 'NUMBER OF HIRING POSITIONS')"
      ]
     },
     "execution_count": 79,
     "metadata": {},
     "output_type": "execute_result"
    },
    {
     "data": {
      "image/png": "[encoded data removed]",
      "text/plain": [
       "<Figure size 864x432 with 1 Axes>"
      ]
     },
     "metadata": {
      "needs_background": "light"
     },
     "output_type": "display_data"
    }
   ],
   "source": [
    "#Position by city\n",
    "city = df.groupby([\"location\"]).count()\n",
    "city = city.reset_index()\n",
    "city = city.sort_values([\"position\"], ascending=False)\n",
    "city = city.head(10)\n",
    "\n",
    "fig,ax = plt.subplots(figsize = (12,6))\n",
    "ax = sns.barplot(x = \"location\", y = \"position\", data = city)\n",
    "ax.set_xticklabels(city[\"location\"],rotation = 90)\n",
    "ax.set_xlabel(\"CITY\", size = 14)\n",
    "ax.set_ylabel(\"NUMBER OF HIRING POSITIONS\", size = 14)"
   ]
  },
  {
   "cell_type": "code",
   "execution_count": 89,
   "metadata": {},
   "outputs": [
    {
     "data": {
      "image/png": "[encoded data removed]",
      "text/plain": [
       "<Figure size 1440x720 with 4 Axes>"
      ]
     },
     "metadata": {
      "needs_background": "light"
     },
     "output_type": "display_data"
    }
   ],
   "source": [
    "# Position by state and job title\n",
    "data = data[data['position'] != 'Others']\n",
    "i = 1\n",
    "color = ['#A92420','#8A6FDF','#135390','#FDA649']\n",
    "fig = plt.figure(figsize=(20,10))\n",
    "for position in data.position.unique():\n",
    "    x = data[data['position']== str(position)].groupby(['state']).count().sort_values('company')\n",
    "    plt.subplot(2, 2, i)\n",
    "    i += 1\n",
    "    plt.bar(x.index,x['company'], color = color[i-2])\n",
    "    plt.xlabel('')\n",
    "    plt.xticks(size = 10)\n",
    "    plt.title(str(position), size = 15)\n",
    "plt.show()"
   ]
  },
  {
   "cell_type": "code",
   "execution_count": null,
   "metadata": {},
   "outputs": [],
   "source": []
  }
 ],
 "metadata": {
  "kernelspec": {
   "display_name": "Python 3",
   "language": "python",
   "name": "python3"
  },
  "language_info": {
   "codemirror_mode": {
    "name": "ipython",
    "version": 3
   },
   "file_extension": ".py",
   "mimetype": "text/x-python",
   "name": "python",
   "nbconvert_exporter": "python",
   "pygments_lexer": "ipython3",
   "version": "3.7.4"
  }
 },
 "nbformat": 4,
 "nbformat_minor": 2
}
